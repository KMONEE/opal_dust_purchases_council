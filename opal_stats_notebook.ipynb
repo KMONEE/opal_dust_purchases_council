{
 "cells": [
  {
   "cell_type": "code",
   "execution_count": null,
   "metadata": {},
   "outputs": [],
   "source": [
    "import pandas as pd\n",
    "import requests"
   ]
  },
  {
   "cell_type": "markdown",
   "metadata": {},
   "source": [
    "# THE FOLLOWING IS RANDOMEARTH"
   ]
  },
  {
   "cell_type": "code",
   "execution_count": 119,
   "metadata": {},
   "outputs": [
    {
     "data": {
      "text/html": [
       "<div>\n",
       "<style scoped>\n",
       "    .dataframe tbody tr th:only-of-type {\n",
       "        vertical-align: middle;\n",
       "    }\n",
       "\n",
       "    .dataframe tbody tr th {\n",
       "        vertical-align: top;\n",
       "    }\n",
       "\n",
       "    .dataframe thead th {\n",
       "        text-align: right;\n",
       "    }\n",
       "</style>\n",
       "<table border=\"1\" class=\"dataframe\">\n",
       "  <thead>\n",
       "    <tr style=\"text-align: right;\">\n",
       "      <th></th>\n",
       "      <th>address</th>\n",
       "      <th>TOKEN_ID</th>\n",
       "      <th>faction</th>\n",
       "    </tr>\n",
       "  </thead>\n",
       "  <tbody>\n",
       "    <tr>\n",
       "      <th>0</th>\n",
       "      <td>terra13smy4rl0aagnnwvul6qer7glm5fnlf66pz0wlm</td>\n",
       "      <td>1</td>\n",
       "      <td>Council</td>\n",
       "    </tr>\n",
       "    <tr>\n",
       "      <th>1</th>\n",
       "      <td>terra14tadw6ddthpn7yv3klffcet2jzj2a5mrp7ggvf</td>\n",
       "      <td>1</td>\n",
       "      <td>Council</td>\n",
       "    </tr>\n",
       "    <tr>\n",
       "      <th>2</th>\n",
       "      <td>terra158u9f9uxt8fky5y2lwhy50nwpf2r0gg6cpuxtl</td>\n",
       "      <td>2</td>\n",
       "      <td>Council</td>\n",
       "    </tr>\n",
       "    <tr>\n",
       "      <th>3</th>\n",
       "      <td>terra17rjuku2tmpl0vjsnr7cjl6uj4ag287ga67zj8y</td>\n",
       "      <td>1</td>\n",
       "      <td>Council</td>\n",
       "    </tr>\n",
       "    <tr>\n",
       "      <th>4</th>\n",
       "      <td>terra1eek0ymmhyzja60830xhzm7k7jkrk99a60q2z2t</td>\n",
       "      <td>4</td>\n",
       "      <td>none</td>\n",
       "    </tr>\n",
       "    <tr>\n",
       "      <th>5</th>\n",
       "      <td>terra1fj44gmt0rtphu623zxge7u3t85qy0jg6p5ucnk</td>\n",
       "      <td>1</td>\n",
       "      <td>none</td>\n",
       "    </tr>\n",
       "    <tr>\n",
       "      <th>6</th>\n",
       "      <td>terra1jflzwlffvx64cxs2u0k5vat5u0yd26acrxytcu</td>\n",
       "      <td>1</td>\n",
       "      <td>Council</td>\n",
       "    </tr>\n",
       "    <tr>\n",
       "      <th>7</th>\n",
       "      <td>terra1nel3mggkwec2m928lwgag5km0h6rgm4hmgdvmy</td>\n",
       "      <td>2</td>\n",
       "      <td>Council</td>\n",
       "    </tr>\n",
       "    <tr>\n",
       "      <th>8</th>\n",
       "      <td>terra1njv5r3rhsdpm8uuvagtnq4a7k66wmhkpr9rza6</td>\n",
       "      <td>1</td>\n",
       "      <td>Council</td>\n",
       "    </tr>\n",
       "    <tr>\n",
       "      <th>9</th>\n",
       "      <td>terra1q3k79plrg4fwjttsaqndjuvvuev8wls6c8j04l</td>\n",
       "      <td>1</td>\n",
       "      <td>Council</td>\n",
       "    </tr>\n",
       "    <tr>\n",
       "      <th>10</th>\n",
       "      <td>terra1qksggyhumezsdmeelqrvhdyh2n6nshmu0cghdk</td>\n",
       "      <td>1</td>\n",
       "      <td>Council</td>\n",
       "    </tr>\n",
       "    <tr>\n",
       "      <th>11</th>\n",
       "      <td>terra1suz5k7jtmue0y2l3ls3n7xz29yukynkgprctpd</td>\n",
       "      <td>1</td>\n",
       "      <td>Council</td>\n",
       "    </tr>\n",
       "    <tr>\n",
       "      <th>12</th>\n",
       "      <td>terra1ugy2f24jzm2x43xln9fmngphfa5kguexc8ej6n</td>\n",
       "      <td>2</td>\n",
       "      <td>Council</td>\n",
       "    </tr>\n",
       "    <tr>\n",
       "      <th>13</th>\n",
       "      <td>terra1vdkk00a5yg7r5fep348e8cnkfqwcxsh2gtnndt</td>\n",
       "      <td>1</td>\n",
       "      <td>Council</td>\n",
       "    </tr>\n",
       "    <tr>\n",
       "      <th>14</th>\n",
       "      <td>terra1wx60k9z8rd624eku9ftwwq9eslyagphghvwlzg</td>\n",
       "      <td>1</td>\n",
       "      <td>Guardians</td>\n",
       "    </tr>\n",
       "    <tr>\n",
       "      <th>15</th>\n",
       "      <td>terra1xpavlkn7xpqy4rv9jpwxzc780az4xh2zfw0wwn</td>\n",
       "      <td>1</td>\n",
       "      <td>Council</td>\n",
       "    </tr>\n",
       "    <tr>\n",
       "      <th>16</th>\n",
       "      <td>terra1zgzp2ddwt99vm824aytn2nmdg3uv0k8vhtt5m4</td>\n",
       "      <td>1</td>\n",
       "      <td>Council</td>\n",
       "    </tr>\n",
       "  </tbody>\n",
       "</table>\n",
       "</div>"
      ],
      "text/plain": [
       "                                         address  TOKEN_ID    faction\n",
       "0   terra13smy4rl0aagnnwvul6qer7glm5fnlf66pz0wlm         1    Council\n",
       "1   terra14tadw6ddthpn7yv3klffcet2jzj2a5mrp7ggvf         1    Council\n",
       "2   terra158u9f9uxt8fky5y2lwhy50nwpf2r0gg6cpuxtl         2    Council\n",
       "3   terra17rjuku2tmpl0vjsnr7cjl6uj4ag287ga67zj8y         1    Council\n",
       "4   terra1eek0ymmhyzja60830xhzm7k7jkrk99a60q2z2t         4       none\n",
       "5   terra1fj44gmt0rtphu623zxge7u3t85qy0jg6p5ucnk         1       none\n",
       "6   terra1jflzwlffvx64cxs2u0k5vat5u0yd26acrxytcu         1    Council\n",
       "7   terra1nel3mggkwec2m928lwgag5km0h6rgm4hmgdvmy         2    Council\n",
       "8   terra1njv5r3rhsdpm8uuvagtnq4a7k66wmhkpr9rza6         1    Council\n",
       "9   terra1q3k79plrg4fwjttsaqndjuvvuev8wls6c8j04l         1    Council\n",
       "10  terra1qksggyhumezsdmeelqrvhdyh2n6nshmu0cghdk         1    Council\n",
       "11  terra1suz5k7jtmue0y2l3ls3n7xz29yukynkgprctpd         1    Council\n",
       "12  terra1ugy2f24jzm2x43xln9fmngphfa5kguexc8ej6n         2    Council\n",
       "13  terra1vdkk00a5yg7r5fep348e8cnkfqwcxsh2gtnndt         1    Council\n",
       "14  terra1wx60k9z8rd624eku9ftwwq9eslyagphghvwlzg         1  Guardians\n",
       "15  terra1xpavlkn7xpqy4rv9jpwxzc780az4xh2zfw0wwn         1    Council\n",
       "16  terra1zgzp2ddwt99vm824aytn2nmdg3uv0k8vhtt5m4         1    Council"
      ]
     },
     "execution_count": 119,
     "metadata": {},
     "output_type": "execute_result"
    }
   ],
   "source": [
    "re_dust_sales = pd.read_json('https://api.flipsidecrypto.com/api/v2/queries/e922f679-017a-4f37-a902-157ed9d68278/data/latest')\n",
    "opal_token_id = pd.read_json('https://api.flipsidecrypto.com/api/v2/queries/06fc1811-4539-4d54-aa30-92aa2b3a8b34/data/latest')\n",
    "\n",
    "re_merge_df = re_dust_sales.merge(opal_token_id['TOKEN_ID'], how='inner', on='TOKEN_ID')\n",
    "re_merge_df['BLOCK_TIMESTAMP'] = pd.to_datetime(re_merge_df['BLOCK_TIMESTAMP'])\n",
    "re_since_start = re_merge_df[re_merge_df['BLOCK_TIMESTAMP'] >= '2022-02-22'] #this marks the beginning of the wars\n",
    "\n",
    "re_owner_list = []\n",
    "for token_id in re_since_start['TOKEN_ID']:\n",
    "    re_owner_list.append({'TOKEN_ID':token_id,\n",
    "        'address':requests.get(f'https://fcd.terra.dev/wasm/contracts/terra1p70x7jkqhf37qa7qm4v23g4u4g8ka4ktxudxa7/store?query_msg=%7B%22owner_of%22:%7B%22token_id%22:%22{token_id}%22%7D%7D').json().get('result').get('owner')})\n",
    "\n",
    "re_owner_id_df = pd.DataFrame(re_owner_list)\n",
    "re_count_df = re_owner_id_df.groupby('address').count().reset_index()\n",
    "\n",
    "re_faction_list = []\n",
    "for address in re_count_df['address']:\n",
    "    try:\n",
    "        re_faction_list.append(requests.get(f'https://stations.levana.finance/api/factions?wallet={address}').json().get('wallet').get('faction'))\n",
    "    except:\n",
    "        re_faction_list.append('none')\n",
    "\n",
    "re_address_faction = pd.concat([re_count_df, pd.DataFrame(re_faction_list)], axis = 1).rename(columns={0:'faction'})\n",
    "\n",
    "re_address_faction"
   ]
  },
  {
   "cell_type": "code",
   "execution_count": 118,
   "metadata": {},
   "outputs": [
    {
     "data": {
      "text/plain": [
       "0      46483\n",
       "1      46497\n",
       "2      46657\n",
       "3      45845\n",
       "4      29071\n",
       "       ...  \n",
       "523    19057\n",
       "524    23300\n",
       "525    42082\n",
       "526    44788\n",
       "527    46133\n",
       "Name: TOKEN_ID, Length: 528, dtype: int64"
      ]
     },
     "execution_count": 118,
     "metadata": {},
     "output_type": "execute_result"
    }
   ],
   "source": [
    "re_address_faction"
   ]
  },
  {
   "cell_type": "markdown",
   "metadata": {},
   "source": [
    "# THE FOLLOWING IS KNOWHERE"
   ]
  },
  {
   "cell_type": "code",
   "execution_count": 120,
   "metadata": {},
   "outputs": [],
   "source": [
    "#THIS IS TO RETURN THE LUNA PRICE ON KW SALES\n",
    "\n",
    "def return_luna_settlement(x):\n",
    "    parse_list = []\n",
    "    for value in list(x.values()):\n",
    "        if 'denom' in value[0]:\n",
    "                parse_list.append(value[0].get('amount'))\n",
    "\n",
    "    return (max(parse_list) / 10**6)"
   ]
  },
  {
   "cell_type": "code",
   "execution_count": 125,
   "metadata": {},
   "outputs": [],
   "source": [
    "kw_dust_sales = pd.read_json('https://api.flipsidecrypto.com/api/v2/queries/555a8db1-8640-416e-9c5b-1c4c7a6eca77/data/latest')\n",
    "kw_dust_sales.rename(columns={'EVENT_ATTRIBUTES':'LUNA_PRICE'}, inplace=True)\n",
    "kw_dust_sales['LUNA_PRICE'] = kw_dust_sales['LUNA_PRICE'].apply(lambda x: return_luna_settlement(x))\n",
    "\n",
    "kw_merge_df = kw_dust_sales.merge(opal_token_id['TOKEN_ID'], how='inner', on='TOKEN_ID')\n",
    "kw_merge_df['BLOCK_TIMESTAMP'] = pd.to_datetime(kw_merge_df['BLOCK_TIMESTAMP'])\n",
    "kw_since_start = kw_merge_df[kw_merge_df['BLOCK_TIMESTAMP'] >= '2022-02-22'] #this marks the beginning of the wars\n",
    "kw_since_start = kw_since_start.groupby('TX_ID').max().reset_index()\n",
    "\n",
    "kw_owner_list = []\n",
    "for token_id in kw_since_start['TOKEN_ID']:\n",
    "    kw_owner_list.append({'TOKEN_ID':token_id,\n",
    "        'address':requests.get(f'https://fcd.terra.dev/wasm/contracts/terra1p70x7jkqhf37qa7qm4v23g4u4g8ka4ktxudxa7/store?query_msg=%7B%22owner_of%22:%7B%22token_id%22:%22{token_id}%22%7D%7D').json().get('result').get('owner')})\n",
    "\n",
    "kw_owner_id_df = pd.DataFrame(kw_owner_list)\n",
    "kw_count_df = kw_owner_id_df.groupby('address').count().reset_index()\n",
    "\n",
    "kw_faction_list = []\n",
    "for address in kw_count_df['address']:\n",
    "    try:\n",
    "        kw_faction_list.append(requests.get(f'https://stations.levana.finance/api/factions?wallet={address}').json().get('wallet').get('faction'))\n",
    "    except:\n",
    "        kw_faction_list.append('none')\n",
    "\n",
    "kw_address_faction = pd.concat([kw_count_df, pd.DataFrame(kw_faction_list)], axis = 1).rename(columns={0:'faction'})"
   ]
  },
  {
   "cell_type": "markdown",
   "metadata": {},
   "source": [
    "# THE FOLLOWING IS LUART"
   ]
  },
  {
   "cell_type": "code",
   "execution_count": null,
   "metadata": {},
   "outputs": [],
   "source": [
    "la_dust_sales = pd.read_json('https://api.flipsidecrypto.com/api/v2/queries/26121f5b-8ea0-4f03-a9c2-937254196fdc/data/latest')\n",
    "\n",
    "la_merge_df = la_dust_sales.merge(opal_token_id['TOKEN_ID'], how='inner', on='TOKEN_ID')\n",
    "la_merge_df['BLOCK_TIMESTAMP'] = pd.to_datetime(la_merge_df['BLOCK_TIMESTAMP'])\n",
    "la_since_start = la_merge_df[la_merge_df['BLOCK_TIMESTAMP'] >= '2022-02-22']\n",
    "la_since_start['TOKEN_ID'] = pd.to_numeric(la_since_start['TOKEN_ID'], downcast='integer')\n",
    "\n",
    "la_owner_list = []\n",
    "for token_id in la_since_start['TOKEN_ID']:\n",
    "    la_owner_list.append({'TOKEN_ID':token_id,\n",
    "        'address':requests.get(f'https://fcd.terra.dev/wasm/contracts/terra1p70x7jkqhf37qa7qm4v23g4u4g8ka4ktxudxa7/store?query_msg=%7B%22owner_of%22:%7B%22token_id%22:%22{token_id}%22%7D%7D').json().get('result').get('owner')})\n",
    "\n",
    "la_owner_id_df = pd.DataFrame(la_owner_list)\n",
    "la_count_df = la_owner_id_df.groupby('address').count().reset_index()\n",
    "\n",
    "la_faction_list = []\n",
    "for address in la_count_df['address']:\n",
    "    try:\n",
    "        la_faction_list.append(requests.get(f'https://stations.levana.finance/api/factions?wallet={address}').json().get('wallet').get('faction'))\n",
    "    except:\n",
    "        la_faction_list.append('none')\n",
    "\n",
    "la_address_faction = pd.concat([la_count_df, pd.DataFrame(la_faction_list)], axis = 1).rename(columns={0:'faction'})\n"
   ]
  },
  {
   "cell_type": "code",
   "execution_count": null,
   "metadata": {},
   "outputs": [],
   "source": [
    "la_address_faction"
   ]
  },
  {
   "cell_type": "code",
   "execution_count": null,
   "metadata": {},
   "outputs": [],
   "source": [
    "total_df = pd.concat([la_address_faction, re_address_faction, kw_address_faction]).groupby(['address', 'faction']).sum().reset_index()"
   ]
  },
  {
   "cell_type": "code",
   "execution_count": null,
   "metadata": {},
   "outputs": [],
   "source": [
    "total_df"
   ]
  },
  {
   "cell_type": "code",
   "execution_count": null,
   "metadata": {},
   "outputs": [],
   "source": [
    "re_address_faction"
   ]
  },
  {
   "cell_type": "code",
   "execution_count": null,
   "metadata": {},
   "outputs": [],
   "source": []
  }
 ],
 "metadata": {
  "interpreter": {
   "hash": "2be5faf79681da6f2a61fdfdd5405d65d042280f7fba6178067603e3a2925119"
  },
  "kernelspec": {
   "display_name": "Python 3.10.0 64-bit",
   "language": "python",
   "name": "python3"
  },
  "language_info": {
   "codemirror_mode": {
    "name": "ipython",
    "version": 3
   },
   "file_extension": ".py",
   "mimetype": "text/x-python",
   "name": "python",
   "nbconvert_exporter": "python",
   "pygments_lexer": "ipython3",
   "version": "3.10.0"
  },
  "orig_nbformat": 4
 },
 "nbformat": 4,
 "nbformat_minor": 2
}
